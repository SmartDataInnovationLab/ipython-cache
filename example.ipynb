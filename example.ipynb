{
 "cells": [
  {
   "cell_type": "markdown",
   "metadata": {},
   "source": [
    "## basic use\n",
    "\n",
    "the next cells show how the %cache magic should be used\n"
   ]
  },
  {
   "cell_type": "markdown",
   "metadata": {},
   "source": [
    "Note: This notebook requires the the packages scikit-learn, numpy and cache_magic to be installed"
   ]
  },
  {
   "cell_type": "code",
   "execution_count": 1,
   "metadata": {
    "scrolled": true
   },
   "outputs": [
    {
     "name": "stdout",
     "output_type": "stream",
     "text": [
      "%cache magic is now registered in ipython\n",
      "resetting entire cache\n",
      "creating new value for variable 'a'\n",
      "loading cached value for variable 'a'. Time since pickling  0:00:00.000463\n"
     ]
    }
   ],
   "source": [
    "import cache_magic\n",
    "\n",
    "# delete everthing currently cached\n",
    "%cache --reset \n",
    "\n",
    "# store a new value for a\n",
    "%cache a = \"111\"\n",
    "\n",
    "# fetch the cached value for a\n",
    "%cache a = \"111\""
   ]
  },
  {
   "cell_type": "code",
   "execution_count": 2,
   "metadata": {
    "scrolled": false
   },
   "outputs": [
    {
     "name": "stdout",
     "output_type": "stream",
     "text": [
      "resetting entire cache\n",
      "creating new value for variable 'clf'\n",
      "loading cached value for variable 'clf'. Time since pickling  0:00:00.000672\n",
      "loading cached value for variable 'clf'. Time since pickling  0:00:00.001523\n",
      "loading cached value for variable 'clf'. Time since pickling  0:00:00.002196\n",
      "loading cached value for variable 'clf'. Time since pickling  0:00:00.002644\n",
      "The slowest run took 5657.97 times longer than the fastest. This could mean that an intermediate result is being cached.\n",
      "626 ms ± 1.25 s per loop (mean ± std. dev. of 5 runs, 1 loop each)\n"
     ]
    }
   ],
   "source": [
    "# an examle for an actual use-case\n",
    "import cache_magic\n",
    "import numpy as np\n",
    "from sklearn import svm\n",
    "\n",
    "%cache --reset\n",
    "\n",
    "%timeit -n 1 -r 5 %cache -v 1 clf = svm.LinearSVC().fit(np.random.randint(5, size=(5000, 40)), np.random.randint(5, size=(5000)))\n"
   ]
  },
  {
   "cell_type": "code",
   "execution_count": 3,
   "metadata": {
    "scrolled": false
   },
   "outputs": [
    {
     "name": "stdout",
     "output_type": "stream",
     "text": [
      "resetting entire cache\n",
      "creating new value for variable 'a'\n",
      "Warning! Expression has changed since last save, which was at 2018-01-25 15:06:27.536005\n",
      "To store a new value, change the version ('-v' or '--version')  \n",
      "loading cached value for variable 'a'. Time since pickling  0:00:00.000930\n",
      "Warning! Expression has changed since last save, which was at 2018-01-25 15:06:27.536005\n",
      "To store a new value, change the version ('-v' or '--version')  \n",
      "loading cached value for variable 'a'. Time since pickling  0:00:00.001622\n",
      "Warning! Expression has changed since last save, which was at 2018-01-25 15:06:27.536005\n",
      "To store a new value, change the version ('-v' or '--version')  \n",
      "loading cached value for variable 'a'. Time since pickling  0:00:00.002148\n"
     ]
    }
   ],
   "source": [
    "# the following 4 cases use the same version\n",
    "\n",
    "%cache -r\n",
    "\n",
    "# without explicit version, the expression (=right hand site of assignment) is used as version\n",
    "%cache a = 0\n",
    "\n",
    "# if parameter is an integer, it will be the version\n",
    "%cache -v 0 a = 1 \n",
    "\n",
    "# if parameter is a variable name, it's value is used as version\n",
    "my_version = 0\n",
    "%cache -v my_version a = 1\n",
    "\n",
    "# new and old version are converted into a string before comparing them\n",
    "my_version_2 = \"0\"\n",
    "%cache -v my_version_2 a = 1"
   ]
  },
  {
   "cell_type": "code",
   "execution_count": 4,
   "metadata": {
    "scrolled": true
   },
   "outputs": [
    {
     "data": {
      "text/html": [
       "<table>\n",
       "<thead>\n",
       "<tr><th>var name  </th><th style=\"text-align: right;\">  size(byte)</th><th>stored at date            </th><th style=\"text-align: right;\">  version</th><th style=\"text-align: right;\">  expression(hash)</th></tr>\n",
       "</thead>\n",
       "<tbody>\n",
       "<tr><td>a         </td><td style=\"text-align: right;\">           5</td><td>2018-01-25 15:06:27.536005</td><td style=\"text-align: right;\">        0</td><td style=\"text-align: right;\">                 0</td></tr>\n",
       "</tbody>\n",
       "</table>"
      ],
      "text/plain": [
       "<IPython.core.display.HTML object>"
      ]
     },
     "metadata": {},
     "output_type": "display_data"
    },
    {
     "name": "stdout",
     "output_type": "stream",
     "text": [
      "creating new value for variable 'b'\n",
      "creating new value for variable 'c'\n",
      "creating new value for variable 'd'\n"
     ]
    },
    {
     "data": {
      "text/html": [
       "<table>\n",
       "<thead>\n",
       "<tr><th>var name  </th><th style=\"text-align: right;\">  size(byte)</th><th>stored at date            </th><th>version  </th><th>expression(hash)  </th></tr>\n",
       "</thead>\n",
       "<tbody>\n",
       "<tr><td>b         </td><td style=\"text-align: right;\">           5</td><td>2018-01-25 15:06:27.664712</td><td>3        </td><td>3                 </td></tr>\n",
       "<tr><td>a         </td><td style=\"text-align: right;\">           5</td><td>2018-01-25 15:06:27.536005</td><td>0        </td><td>0                 </td></tr>\n",
       "<tr><td>c         </td><td style=\"text-align: right;\">           5</td><td>2018-01-25 15:06:27.666673</td><td>fun(b)   </td><td>fun(b)            </td></tr>\n",
       "<tr><td>d         </td><td style=\"text-align: right;\">          12</td><td>2018-01-25 15:06:27.668137</td><td>4        </td><td>fun(1.1)          </td></tr>\n",
       "</tbody>\n",
       "</table>"
      ],
      "text/plain": [
       "<IPython.core.display.HTML object>"
      ]
     },
     "metadata": {},
     "output_type": "display_data"
    }
   ],
   "source": [
    "# show everything, that is cached\n",
    "%cache\n",
    "\n",
    "# generate some variables\n",
    "%cache b=3\n",
    "def fun(x):\n",
    "    return x+1\n",
    "%cache c = fun(b)\n",
    "%cache -v c d = fun(1.1)\n",
    "\n",
    "# show the new cache\n",
    "%cache"
   ]
  },
  {
   "cell_type": "markdown",
   "metadata": {},
   "source": [
    "## power use\n",
    "\n",
    "the next cells show how the %cache magic can be used"
   ]
  },
  {
   "cell_type": "code",
   "execution_count": 5,
   "metadata": {
    "scrolled": false
   },
   "outputs": [
    {
     "name": "stdout",
     "output_type": "stream",
     "text": [
      "resetting entire cache\n",
      "creating new value for variable 'clf'\n",
      "Warning! Expression has changed since last save, which was at 2018-01-25 15:06:28.366362\n",
      "To store a new value, change the version ('-v' or '--version')  \n",
      "loading cached value for variable 'clf'. Time since pickling  0:00:00.000725\n",
      "4\n",
      "loading cached value for variable 'clf'. Time since pickling  0:00:00.001897\n",
      "1\n",
      "creating new value for variable 'clf'\n",
      "not a classifier\n"
     ]
    }
   ],
   "source": [
    "import cache_magic\n",
    "import numpy as np\n",
    "from sklearn import svm\n",
    "%cache --reset\n",
    "\n",
    "# even if the expression changes, but not the version, the old value will still be loaded \n",
    "# in which case there will be a warning\n",
    "%cache -v 1 clf = svm.LinearSVC().fit(np.random.randint(5, size=(1000, 40)), np.random.randint(5, size=(1000)))\n",
    "%cache -v 1 clf = \"not a classifier\"\n",
    "print(clf.predict(np.random.randint(5,size=(1,40)))[0])\n",
    "\n",
    "# without an expression, it will always try to reload the cached value\n",
    "del clf\n",
    "%cache -v 1 clf\n",
    "print(clf.predict(np.random.randint(5,size=(1,40)))[0])\n",
    "\n",
    "# you can store the current value of a var without an actual statement by assigning it to itself\n",
    "clf=\"not a classifier\"\n",
    "%cache -v 2 clf=clf\n",
    "print(clf)\n"
   ]
  },
  {
   "cell_type": "code",
   "execution_count": 6,
   "metadata": {
    "scrolled": true
   },
   "outputs": [
    {
     "name": "stdout",
     "output_type": "stream",
     "text": [
      "loading cached value for variable 'clf'. Time since pickling  0:00:00.005745\n",
      "not a classifier\n"
     ]
    }
   ],
   "source": [
    "# while the cache still exists in the file system, the cell can be executed alone\n",
    "import cache_magic\n",
    "\n",
    "%cache clf\n",
    "print(clf)\n"
   ]
  },
  {
   "cell_type": "code",
   "execution_count": 7,
   "metadata": {
    "scrolled": true
   },
   "outputs": [
    {
     "name": "stdout",
     "output_type": "stream",
     "text": [
      "resetting entire cache\n",
      "creating new value for variable 'a'\n",
      "creating new value for variable 'b'\n",
      "creating new value for variable 'c'\n"
     ]
    },
    {
     "data": {
      "text/html": [
       "<table>\n",
       "<thead>\n",
       "<tr><th>var name  </th><th style=\"text-align: right;\">  size(byte)</th><th>stored at date            </th><th style=\"text-align: right;\">  version</th><th style=\"text-align: right;\">  expression(hash)</th></tr>\n",
       "</thead>\n",
       "<tbody>\n",
       "<tr><td>b         </td><td style=\"text-align: right;\">           5</td><td>2018-01-25 15:06:28.438061</td><td style=\"text-align: right;\">        1</td><td style=\"text-align: right;\">                 1</td></tr>\n",
       "<tr><td>a         </td><td style=\"text-align: right;\">           5</td><td>2018-01-25 15:06:28.437203</td><td style=\"text-align: right;\">        1</td><td style=\"text-align: right;\">                 1</td></tr>\n",
       "<tr><td>c         </td><td style=\"text-align: right;\">           5</td><td>2018-01-25 15:06:28.438906</td><td style=\"text-align: right;\">        1</td><td style=\"text-align: right;\">                 1</td></tr>\n",
       "</tbody>\n",
       "</table>"
      ],
      "text/plain": [
       "<IPython.core.display.HTML object>"
      ]
     },
     "metadata": {},
     "output_type": "display_data"
    },
    {
     "name": "stdout",
     "output_type": "stream",
     "text": [
      ".cache_magic\n",
      ".cache_magic/b\n",
      ".cache_magic/a\n",
      ".cache_magic/c\n",
      "/home/jovyan\n"
     ]
    },
    {
     "data": {
      "text/html": [
       "<table>\n",
       "<thead>\n",
       "<tr><th>var name  </th><th style=\"text-align: right;\">  size(byte)</th><th>stored at date            </th><th style=\"text-align: right;\">  version</th><th style=\"text-align: right;\">  expression(hash)</th></tr>\n",
       "</thead>\n",
       "<tbody>\n",
       "<tr><td>b         </td><td style=\"text-align: right;\">           5</td><td>2018-01-25 15:06:28.438061</td><td style=\"text-align: right;\">        1</td><td style=\"text-align: right;\">                 1</td></tr>\n",
       "<tr><td>a         </td><td style=\"text-align: right;\">           5</td><td>2018-01-25 15:06:28.437203</td><td style=\"text-align: right;\">        1</td><td style=\"text-align: right;\">                 1</td></tr>\n",
       "<tr><td>c         </td><td style=\"text-align: right;\">           5</td><td>2018-01-25 15:06:28.438906</td><td style=\"text-align: right;\">        1</td><td style=\"text-align: right;\">                 1</td></tr>\n",
       "</tbody>\n",
       "</table>"
      ],
      "text/plain": [
       "<IPython.core.display.HTML object>"
      ]
     },
     "metadata": {},
     "output_type": "display_data"
    },
    {
     "name": "stdout",
     "output_type": "stream",
     "text": [
      "/home/jovyan/magic\n"
     ]
    },
    {
     "data": {
      "text/html": [
       "<table>\n",
       "<thead>\n",
       "<tr><th>var name  </th><th style=\"text-align: right;\">  size(byte)</th><th>stored at date            </th><th style=\"text-align: right;\">  version</th><th style=\"text-align: right;\">  expression(hash)</th></tr>\n",
       "</thead>\n",
       "<tbody>\n",
       "<tr><td>b         </td><td style=\"text-align: right;\">           5</td><td>2018-01-25 15:06:28.438061</td><td style=\"text-align: right;\">        1</td><td style=\"text-align: right;\">                 1</td></tr>\n",
       "<tr><td>a         </td><td style=\"text-align: right;\">           5</td><td>2018-01-25 15:06:28.437203</td><td style=\"text-align: right;\">        1</td><td style=\"text-align: right;\">                 1</td></tr>\n",
       "<tr><td>c         </td><td style=\"text-align: right;\">           5</td><td>2018-01-25 15:06:28.438906</td><td style=\"text-align: right;\">        1</td><td style=\"text-align: right;\">                 1</td></tr>\n",
       "</tbody>\n",
       "</table>"
      ],
      "text/plain": [
       "<IPython.core.display.HTML object>"
      ]
     },
     "metadata": {},
     "output_type": "display_data"
    },
    {
     "name": "stdout",
     "output_type": "stream",
     "text": [
      ".cache_magic\n",
      ".cache_magic/b\n",
      ".cache_magic/a\n",
      ".cache_magic/c\n"
     ]
    }
   ],
   "source": [
    "# the cache is stored in the directory where the kernel was first started in \n",
    "\n",
    "import cache_magic\n",
    "import os\n",
    "\n",
    "%cache -r\n",
    "%cache a=1\n",
    "%cache b=1\n",
    "%cache c=1\n",
    "\n",
    "%cache\n",
    "for root, dirs, files in os.walk(\".cache_magic\"):\n",
    "    # there is one folder per cache variable\n",
    "    print(root)\n",
    "\n",
    "# if the working dir changes, the .cache-dir stays where it is\n",
    "%cd ..\n",
    "%cache\n",
    "for root, dirs, files in os.walk(\".cache_magic\"):\n",
    "    # no output, because no .cache-dir\n",
    "    print(root)\n",
    "    \n",
    "\n",
    "%cd -\n",
    "%cache\n",
    "for root, dirs, files in os.walk(\".cache_magic\"):\n",
    "    # now we see the cache directory againg\n",
    "    print(root)\n",
    "       "
   ]
  },
  {
   "cell_type": "code",
   "execution_count": 8,
   "metadata": {},
   "outputs": [
    {
     "name": "stdout",
     "output_type": "stream",
     "text": [
      "resetting cached values for a\n",
      "creating new value for variable 'a'\n",
      "resetting cached values for a\n",
      "Error: variable 'a' not in cache\n",
      "creating new value for variable 'a'\n"
     ]
    }
   ],
   "source": [
    "# always store a new value and never read from cache\n",
    "%cache -r a=1\n",
    "\n",
    "# remove a single variable from cache\n",
    "%cache -r a\n",
    "\n",
    "# Error:\n",
    "%cache a\n",
    "\n",
    "# load last value if possible, and store new value on miss\n",
    "%cache a = a\n"
   ]
  },
  {
   "cell_type": "code",
   "execution_count": 9,
   "metadata": {},
   "outputs": [
    {
     "name": "stdout",
     "output_type": "stream",
     "text": [
      "loading cached value for variable 'a'. Time since pickling  0:00:00.073952\n"
     ]
    }
   ],
   "source": [
    "# load last value if possible, but don't store new value on miss\n",
    "import cache_magic\n",
    "\n",
    "del a\n",
    "%cache a"
   ]
  },
  {
   "cell_type": "code",
   "execution_count": 10,
   "metadata": {},
   "outputs": [
    {
     "name": "stdout",
     "output_type": "stream",
     "text": [
      "creating new value for variable 'aaa'\n",
      "creating new value for variable 'bbb'\n"
     ]
    },
    {
     "data": {
      "text/html": [
       "<table>\n",
       "<thead>\n",
       "<tr><th>var name  </th><th style=\"text-align: right;\">  size(byte)</th><th>stored at date            </th><th>version  </th><th>expression(hash)  </th></tr>\n",
       "</thead>\n",
       "<tbody>\n",
       "<tr><td>b         </td><td style=\"text-align: right;\">           5</td><td>2018-01-25 15:06:28.438061</td><td>1        </td><td>1                 </td></tr>\n",
       "<tr><td>a         </td><td style=\"text-align: right;\">           5</td><td>2018-01-25 15:06:28.565980</td><td>a        </td><td>a                 </td></tr>\n",
       "<tr><td>aaa       </td><td style=\"text-align: right;\">           5</td><td>2018-01-25 15:06:28.704483</td><td>1+1      </td><td>1+1               </td></tr>\n",
       "<tr><td>c         </td><td style=\"text-align: right;\">           5</td><td>2018-01-25 15:06:28.438906</td><td>1        </td><td>1                 </td></tr>\n",
       "<tr><td>bbb       </td><td style=\"text-align: right;\">           5</td><td>2018-01-25 15:06:28.706382</td><td>1        </td><td>1+1               </td></tr>\n",
       "</tbody>\n",
       "</table>"
      ],
      "text/plain": [
       "<IPython.core.display.HTML object>"
      ]
     },
     "metadata": {},
     "output_type": "display_data"
    }
   ],
   "source": [
    "# You can use this magic-module as a regular python module\n",
    "\n",
    "from cache_magic import CacheCall\n",
    "cache = CacheCall(get_ipython().kernel.shell)\n",
    "\n",
    "# setting all parameter by name\n",
    "cache(\n",
    "    version=\"*\",\n",
    "    reset=False,\n",
    "    var_name=\"aaa\",\n",
    "    var_value=\"1+1\",\n",
    "    show_all=False,\n",
    "    set_debug=True)\n",
    "\n",
    "# setting all parameter by ordering\n",
    "cache(\"1\",False,\"bbb\",\"1+1\",False, False)\n",
    "\n",
    "# setting parameter selectivly\n",
    "cache(show_all=True)\n"
   ]
  },
  {
   "cell_type": "markdown",
   "metadata": {},
   "source": [
    "## development tests\n",
    "\n",
    "the next cells show how the %cache magic should not be used\n",
    "\n",
    "these examples are for debug-purposes only"
   ]
  },
  {
   "cell_type": "code",
   "execution_count": 11,
   "metadata": {
    "scrolled": false
   },
   "outputs": [
    {
     "name": "stdout",
     "output_type": "stream",
     "text": [
      "%cache magic is now registered in ipython\n",
      "resetting entire cache\n",
      "   exptecting: new values\n",
      "creating new value for variable 'a'\n",
      "creating new value for variable 'c'\n",
      "creating new value for variable 'sadsda'\n",
      "creating new value for variable 'a'\n",
      "resetting cached values for a\n",
      "creating new value for variable 'a'\n",
      "resetting cached values for a\n",
      "creating new value for variable 'a'\n",
      "   exptecting: warnings\n",
      "Warning! Expression has changed since last save, which was at 2018-01-25 15:06:28.796198\n",
      "To store a new value, change the version ('-v' or '--version')  \n",
      "loading cached value for variable 'a'. Time since pickling  0:00:00.000741\n",
      "Warning! Expression has changed since last save, which was at 2018-01-25 15:06:28.792367\n",
      "To store a new value, change the version ('-v' or '--version')  \n",
      "loading cached value for variable 'sadsda'. Time since pickling  0:00:00.005230\n",
      "   exptecting: stored values\n",
      "loading cached value for variable 'sadsda'. Time since pickling  0:00:00.005763\n",
      "loading cached value for variable 'sadsda'. Time since pickling  0:00:00.006120\n"
     ]
    }
   ],
   "source": [
    "#testing successfull calls\n",
    "\n",
    "import cache_magic\n",
    "\n",
    "# Dev-Note: use reload, so you don't have to restart the kernel everytime you change the \n",
    "from imp import reload\n",
    "reload(cache_magic)\n",
    "\n",
    "my_version = 3\n",
    "%cache --reset\n",
    "\n",
    "print(\"   exptecting: new values\")\n",
    "%cache -v 2 a = \"ex3\"\n",
    "%cache -v my_version c = \"ex3\"\n",
    "%cache --version my_version sadsda = \"ex3\"\n",
    "%cache -v 3 a=\"\"\n",
    "%cache -v 3 -r a=\"\"\n",
    "%cache -v 3 -r a=\"\"\n",
    "\n",
    "\n",
    "print(\"   exptecting: warnings\")\n",
    "%cache -v 3 a= \" _ \"\n",
    "%cache -v 3 sadsda = \"ex4\"\n",
    "\n",
    "print(\"   exptecting: stored values\")\n",
    "%cache -v my_version sadsda = \"ex3\"\n",
    "%cache -v 3 sadsda = \"ex3\"\n"
   ]
  },
  {
   "cell_type": "code",
   "execution_count": 12,
   "metadata": {
    "scrolled": true
   },
   "outputs": [
    {
     "name": "stdout",
     "output_type": "stream",
     "text": [
      "%cache magic is now registered in ipython\n",
      "Version: \"a\"\n",
      "version_param.isdigit(): False\n",
      "Error: Invalid version. It must either be an Integer, *, or the name of a variable\n",
      "Error: statement is no valid python: 1=a\n",
      " Error: can't assign to literal (<unknown>, line 1)\n"
     ]
    }
   ],
   "source": [
    "# testing errors\n",
    "\n",
    "import cache_magic\n",
    "reload(cache_magic)\n",
    "\n",
    "%cache -v \"a\" a = \"ex3\"\n",
    "%cache -v a 1=a"
   ]
  },
  {
   "cell_type": "code",
   "execution_count": 13,
   "metadata": {
    "scrolled": true
   },
   "outputs": [
    {
     "name": "stdout",
     "output_type": "stream",
     "text": [
      "%cache magic is now registered in ipython\n",
      "resetting entire cache\n",
      "Error: variable 'a' not in cache\n",
      "creating new value for variable 'a'\n",
      "loading cached value for variable 'a'. Time since pickling  0:00:00.000447\n",
      "Version: '1'\n",
      "version_param.isdigit(): False\n",
      "Error: Invalid version. It must either be an Integer, *, or the name of a variable\n",
      "Error: Forced version '1' could not be found, instead found version '1'.If you don't care about a specific version, leave out the version parameter. \n",
      "resetting entire cache\n",
      "Error: variable 'a' not in cache\n",
      "creating new value for variable 'a'\n",
      "loading cached value for variable 'a'. Time since pickling  0:00:00.000385\n"
     ]
    }
   ],
   "source": [
    "# testing loading without storing\n",
    "\n",
    "import cache_magic\n",
    "reload(cache_magic)\n",
    "\n",
    "%cache --reset \n",
    "a=1\n",
    "del a\n",
    "\n",
    "# error: \n",
    "%cache a\n",
    "\n",
    "%cache a=1\n",
    "del a\n",
    "%cache a\n",
    "del a\n",
    "\n",
    "# error:\n",
    "%cache -v '1' a\n",
    "\n",
    "# error\n",
    "%cache -v 1 a\n",
    "\n",
    "%cache --reset \n",
    "a=1\n",
    "del a\n",
    "\n",
    "# Error\n",
    "%cache -v 0 a\n",
    "\n",
    "%cache -v * a=1\n",
    "\n",
    "# Error:\n",
    "%cache -v * a"
   ]
  },
  {
   "cell_type": "code",
   "execution_count": 14,
   "metadata": {},
   "outputs": [
    {
     "name": "stdout",
     "output_type": "stream",
     "text": [
      "Version: \"1\"\n",
      "version_param.isdigit(): False\n",
      "Error: Invalid version. It must either be an Integer, *, or the name of a variable\n"
     ]
    }
   ],
   "source": [
    "\n",
    "%cache -v \"1\" a\n"
   ]
  },
  {
   "cell_type": "code",
   "execution_count": 15,
   "metadata": {
    "scrolled": true
   },
   "outputs": [
    {
     "name": "stdout",
     "output_type": "stream",
     "text": [
      "creating new value for variable 'a'\n",
      "loading cached value for variable 'a'. Time since pickling  0:00:00.000334\n",
      "resetting cached values for a\n",
      "creating new value for variable 'a'\n",
      "resetting because version mismatch\n",
      "creating new value for variable 'a'\n"
     ]
    }
   ],
   "source": [
    "\n",
    "%cache -v 213 a = \"1\"\n",
    "# get stored version via error message\n",
    "%cache -v * a\n",
    "\n",
    "# testing debug flag '-d'\n",
    "%cache -d -v 1 -r a = \"1\"\n",
    "%cache -d a = \"1\"\n"
   ]
  },
  {
   "cell_type": "code",
   "execution_count": 16,
   "metadata": {
    "scrolled": false
   },
   "outputs": [
    {
     "name": "stdout",
     "output_type": "stream",
     "text": [
      "%cache magic is now registered in ipython\n",
      "resetting cached values for a\n",
      "creating new value for variable 'a'\n",
      "resetting cached values for a\n",
      "resetting cached values for a\n",
      "creating new value for variable 'a'\n"
     ]
    }
   ],
   "source": [
    "import cache_magic\n",
    "from imp import reload\n",
    "reload(cache_magic)\n",
    "\n",
    "%cache -r a=1\n",
    "%cache -r a\n",
    "%cache -r a=1"
   ]
  },
  {
   "cell_type": "code",
   "execution_count": 17,
   "metadata": {
    "scrolled": true
   },
   "outputs": [
    {
     "name": "stdout",
     "output_type": "stream",
     "text": [
      "%cache magic is now registered in ipython\n",
      "resetting cached values for a\n",
      "creating new value for variable 'a'\n",
      "loading cached value for variable 'a'. Time since pickling  0:00:00.000310\n",
      "1\n"
     ]
    }
   ],
   "source": [
    "import cache_magic\n",
    "from imp import reload\n",
    "reload(cache_magic)\n",
    "\n",
    "%cache -r a = 1\n",
    "%cache a\n",
    "print (a)"
   ]
  },
  {
   "cell_type": "code",
   "execution_count": 18,
   "metadata": {
    "scrolled": false
   },
   "outputs": [
    {
     "name": "stdout",
     "output_type": "stream",
     "text": [
      "%cache magic is now registered in ipython\n",
      "resetting entire cache\n",
      "creating new value for variable 'a'\n",
      "loading cached value for variable 'a'. Time since pickling  0:00:00.000325\n",
      "creating new value for variable 'a'\n"
     ]
    }
   ],
   "source": [
    "import cache_magic\n",
    "from imp import reload\n",
    "reload(cache_magic)\n",
    "\n",
    "def foo(x):\n",
    "    return x+1\n",
    "\n",
    "%cache --reset\n",
    "%cache -v * a= foo(3)\n",
    "%cache -v * a= foo(3)\n",
    "%cache -v * a= 2\n"
   ]
  },
  {
   "cell_type": "code",
   "execution_count": 19,
   "metadata": {},
   "outputs": [],
   "source": [
    "#!pip install -e ."
   ]
  }
 ],
 "metadata": {
  "kernelspec": {
   "display_name": "Python 3",
   "language": "python",
   "name": "python3"
  },
  "language_info": {
   "codemirror_mode": {
    "name": "ipython",
    "version": 3
   },
   "file_extension": ".py",
   "mimetype": "text/x-python",
   "name": "python",
   "nbconvert_exporter": "python",
   "pygments_lexer": "ipython3",
   "version": "3.6.3"
  },
  "varInspector": {
   "cols": {
    "lenName": 16,
    "lenType": 16,
    "lenVar": 40
   },
   "kernels_config": {
    "python": {
     "delete_cmd_postfix": "",
     "delete_cmd_prefix": "del ",
     "library": "var_list.py",
     "varRefreshCmd": "print(var_dic_list())"
    },
    "r": {
     "delete_cmd_postfix": ") ",
     "delete_cmd_prefix": "rm(",
     "library": "var_list.r",
     "varRefreshCmd": "cat(var_dic_list()) "
    }
   },
   "types_to_exclude": [
    "module",
    "function",
    "builtin_function_or_method",
    "instance",
    "_Feature"
   ],
   "window_display": false
  }
 },
 "nbformat": 4,
 "nbformat_minor": 2
}
